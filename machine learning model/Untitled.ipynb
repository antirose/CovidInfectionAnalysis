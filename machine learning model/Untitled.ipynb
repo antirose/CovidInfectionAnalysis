{
 "cells": [
  {
   "cell_type": "code",
   "execution_count": 1,
   "id": "80274194",
   "metadata": {},
   "outputs": [],
   "source": [
    "# CovidInfectionAnalysis\n",
    "# Group Name: Endless Knot\n",
    "# Group Members: Toni, Elsa, India, Utsav\n",
    "# Machine Learning model MOCKUP"
   ]
  },
  {
   "cell_type": "code",
   "execution_count": null,
   "id": "664e478c",
   "metadata": {},
   "outputs": [],
   "source": [
    "# Import Libraries\n",
    "import pandas as pd\n",
    "import numpy as np\n",
    "import seaborn as sns\n",
    "from matplotlib import pyplot as plt\n",
    "from sklearn.model_selection import train_test_split\n",
    "from sklearn.preprocessing import PolynomialFeatures\n",
    "from sklearn.linear_model import LinearRegression\n",
    "from sklearn.metrics import r2_score, mean_squared_error"
   ]
  },
  {
   "cell_type": "code",
   "execution_count": null,
   "id": "50846b36",
   "metadata": {},
   "outputs": [],
   "source": [
    "# Read Dataset/load dataset\n",
    "X_df= pd.read_csv (folder and file)\n"
   ]
  },
  {
   "cell_type": "code",
   "execution_count": null,
   "id": "3fb4cd46",
   "metadata": {},
   "outputs": [],
   "source": [
    "# Data Transformation\n",
    "X_df.rename(columns={'IF ANY FOUND'}, inplace=True)\n"
   ]
  },
  {
   "cell_type": "code",
   "execution_count": null,
   "id": "5fd7a035",
   "metadata": {},
   "outputs": [],
   "source": [
    "# Normalize the data. Find Null \n",
    "X_df.isnull().sum().to_frame('nulls')\n",
    "#IF ANY FOUND IN THE DATASET\n",
    "\n"
   ]
  },
  {
   "cell_type": "code",
   "execution_count": null,
   "id": "dd4208a5",
   "metadata": {},
   "outputs": [],
   "source": [
    "# convert interest rate to numerical\n",
    "df['a'] = df['b'].str.replace('%', '')"
   ]
  },
  {
   "cell_type": "code",
   "execution_count": null,
   "id": "ae1c8c72",
   "metadata": {},
   "outputs": [],
   "source": [
    "# Create our features\n",
    "# Convert string columns to numbers and drop 'NULL VALUE' column then assign to X"
   ]
  },
  {
   "cell_type": "code",
   "execution_count": null,
   "id": "9a672589",
   "metadata": {},
   "outputs": [],
   "source": [
    "# DESCRIPTIVE ANALYSIS\n",
    "print(X_df.describe())\n"
   ]
  },
  {
   "cell_type": "code",
   "execution_count": null,
   "id": "dae8a151",
   "metadata": {},
   "outputs": [],
   "source": [
    "# Resample the training data with the BalancedRandomForestClassifier\n",
    "from imblearn.ensemble import BalancedRandomForestClassifier\n",
    "# Instantiate\n",
    "brfc = BalancedRandomForestClassifier(n_estimators=100, random_state=1)\n",
    "\n",
    "# Fit\n",
    "brfc.fit(X_train, y_train)"
   ]
  },
  {
   "cell_type": "code",
   "execution_count": null,
   "id": "b3b336ce",
   "metadata": {},
   "outputs": [],
   "source": [
    "# Train the EasyEnsembleClassifier\n",
    "from imblearn.ensemble import EasyEnsembleClassifier\n",
    "# Instantiate"
   ]
  },
  {
   "cell_type": "code",
   "execution_count": null,
   "id": "01e06ef8",
   "metadata": {},
   "outputs": [],
   "source": [
    "# Linear regression\n",
    "ln_model = LinearRegression()\n",
    "ln_model.fit(x_days_train, y_confirmed_train)"
   ]
  },
  {
   "cell_type": "code",
   "execution_count": null,
   "id": "5bbe15b2",
   "metadata": {},
   "outputs": [],
   "source": [
    "# Display the confusion matrix\n",
    "# Calculating the confusion matrix\n",
    "cm = confusion_matrix(y_test, y_pred)\n",
    "\n",
    "# Create a DataFrame from the confusion matrix.\n",
    "cm_df = pd.DataFrame(\n",
    "    cm, index=[\"A\", \"B\"], columns=[\"C\", \"D\"])\n",
    "cm_df"
   ]
  },
  {
   "cell_type": "code",
   "execution_count": null,
   "id": "f206055c",
   "metadata": {},
   "outputs": [],
   "source": [
    "# Print the imbalanced classification report\n",
    "print(classification_report_imbalanced(y_test, y_pred))"
   ]
  },
  {
   "cell_type": "code",
   "execution_count": null,
   "id": "9101355c",
   "metadata": {},
   "outputs": [],
   "source": [
    "# Graphical summary of the model."
   ]
  },
  {
   "cell_type": "code",
   "execution_count": null,
   "id": "313424ac",
   "metadata": {},
   "outputs": [],
   "source": [
    "# Decision Tree\n",
    "> from sklearn.datasets import X_df\n",
    ">>> from sklearn import tree"
   ]
  },
  {
   "cell_type": "code",
   "execution_count": null,
   "id": "7f6c04e0",
   "metadata": {},
   "outputs": [],
   "source": [
    "# sklearn.tree.plot_tree(decision_tree, *, max_depth=None, feature_names=None, class_names=None, label='all', filled=False,\n",
    "impurity=True, node_ids=False, proportion=False, rounded=False, precision=3, ax=None, fontsize=None"
   ]
  }
 ],
 "metadata": {
  "kernelspec": {
   "display_name": "mlenv",
   "language": "python",
   "name": "mlenv"
  },
  "language_info": {
   "codemirror_mode": {
    "name": "ipython",
    "version": 3
   },
   "file_extension": ".py",
   "mimetype": "text/x-python",
   "name": "python",
   "nbconvert_exporter": "python",
   "pygments_lexer": "ipython3",
   "version": "3.7.11"
  }
 },
 "nbformat": 4,
 "nbformat_minor": 5
}
